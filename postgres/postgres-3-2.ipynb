{
 "cells": [
  {
   "cell_type": "markdown",
   "id": "08286dc7-12a1-4d5b-864c-0e7e1833653f",
   "metadata": {},
   "source": [
    "# Postgres Demo notebook\n",
    "\n",
    "In this Jupyter notebook we will show an example of adding an additional connector to retrieve metadata from another source.\n",
    "\n",
    "Notebooks allow us to mix explanatory text and diagrams with functional code (in this case Python). All the code you see is executing in a real environment. Read the [readme](../read-me-first.ipynb) to understand more.\n",
    "\n",
    "This notebook isn't yet included in our demos by default, but we hope to include more on connectors.\n",
    "\n",
    "Before running this notebook, you MUST run:\n",
    "* [configuration notebook](../egeria-server-config.ipynb). \n",
    "\n",
    "It's also recommended you read through, and run the following notebooks, to get more background:\n",
    "* [Building a Data Catalog](../asset-management-labs/building-a-data-catalog.ipynb)\n",
    "* [Automated Curation](../asset-management-labs/automated-curation.ipynb)\n"
   ]
  },
  {
   "cell_type": "markdown",
   "id": "86b3eb58-3911-4766-93cf-165289524866",
   "metadata": {},
   "source": [
    "## Infrastructure\n",
    "\n",
    "These notebooks have been [deployed using Kubernetes](https://egeria-project.org/guides/operations/kubernetes/). We have used a [container](https://quay.io/repository/odpi/egeria-database-connectors) which includes the [Egeria Postgres connector](https://github.com/odpi/egeria-database-connectors) in addition to base Egeria.\n",
    "\n",
    "\n",
    "First we'll check the existing servers are already started. (They must be configured)\n",
    "\n"
   ]
  },
  {
   "cell_type": "code",
   "execution_count": 6,
   "id": "faf14ea7-1d36-456d-8a58-b33863adf3be",
   "metadata": {},
   "outputs": [
    {
     "name": "stdout",
     "output_type": "stream",
     "text": [
      "\n",
      "Checking OMAG Server Platform availability...\n",
      "    Core Platform is active\n",
      "        Checking OMAG Server cocoMDS2\n",
      "           ... cocoMDS2 is configured\n",
      "           ... cocoMDS2 is active - ready to begin\n",
      "        Checking OMAG Server cocoMDS3\n",
      "           ... cocoMDS3 is configured\n",
      "           ... cocoMDS3 is active - ready to begin\n",
      "        Checking OMAG Server cocoMDS5\n",
      "           ... cocoMDS5 is configured\n",
      "           ... cocoMDS5 is active - ready to begin\n",
      "        Checking OMAG Server cocoMDS6\n",
      "           ... cocoMDS6 is configured\n",
      "           ... cocoMDS6 is active - ready to begin\n",
      "    Data Lake Platform is active\n",
      "        Checking OMAG Server cocoMDS1\n",
      "           ... cocoMDS1 is configured\n",
      "           ... cocoMDS1 is active - ready to begin\n",
      "        Checking OMAG Server cocoMDS4\n",
      "           ... cocoMDS4 is configured\n",
      "           ... cocoMDS4 is active - ready to begin\n",
      "        Checking OMAG Server cocoView1\n",
      "           ... cocoView1 is configured\n",
      "           ... cocoView1 is active - ready to begin\n",
      "        Checking OMAG Server cocoOLS1\n",
      "           ... cocoOLS1 is configured\n",
      "           ... cocoOLS1 is active - ready to begin\n",
      "    Dev Platform is active\n",
      "        Checking OMAG Server cocoMDSx\n",
      "           ... cocoMDSx is configured\n",
      "           ... cocoMDSx is active - ready to begin\n",
      "Done.\n",
      " \n"
     ]
    }
   ],
   "source": [
    "# Standard checks for notebooks - ensure all are running, define standard functions\n",
    "%run ../common/environment-check.ipynb"
   ]
  },
  {
   "cell_type": "markdown",
   "id": "289c719f-6312-484e-b72d-63a59ff74393",
   "metadata": {},
   "source": [
    "Now we are going to setup some standard values that are normally setup elsewhere - some code refactoring of the notebooks is needed to fully integrate."
   ]
  },
  {
   "cell_type": "code",
   "execution_count": 7,
   "id": "ccefecf9-19d8-4b5d-a94c-616e479ec044",
   "metadata": {},
   "outputs": [],
   "source": [
    "#language requirement\n",
    "import os\n",
    "\n",
    "#admin operations - where/who\n",
    "adminUserId     = \"garygeeke\"\n",
    "devPlatformURL       = os.environ.get('devPlatformURL', 'https://localhost:9445')\n",
    "devPlatformName      = \"Dev Platform\"\n",
    "adminPlatformURL     = devPlatformURL\n",
    "adminCommandURLRoot = adminPlatformURL + '/open-metadata/admin-services/users/' + adminUserId + '/servers/'\n",
    "\n",
    "# Event infrastructure & cohort membership\n",
    "eventBusURLroot   = os.environ.get('eventBusURLroot', 'localhost:9092')\n",
    "jsonContentHeader = {'content-type':'application/json'}\n",
    "eventBusBody      = {\n",
    "    \"producer\": {\n",
    "        \"bootstrap.servers\": eventBusURLroot\n",
    "    },\n",
    "    \"consumer\":{\n",
    "        \"bootstrap.servers\": eventBusURLroot\n",
    "    }\n",
    "}\n",
    "cocoCohort = \"cocoCohort\"\n",
    "devCohort  = \"devCohort\"\n",
    "iotCohort  = \"iotCohort\"\n",
    "\n",
    "# Default metadata repository options\n",
    "inMemoryRepositoryOption = \"in-memory-repository\"\n",
    "graphRepositoryOption    = \"local-graph-repository\"\n",
    "\n",
    "# Pick up which repo type to use from environment if set, otherwise default to inmemory \n",
    "metadataRepositoryType   = os.environ.get('repositoryType', inMemoryRepositoryOption)\n",
    "\n"
   ]
  },
  {
   "cell_type": "markdown",
   "id": "d88c145c-41a3-4975-b42f-5b33a6b2ef58",
   "metadata": {},
   "source": [
    "## Integration Connector\n",
    "\n",
    "In this notebook we have added an example of using an [Egeria integration connector](https://egeria-project.org/concepts/integration-connector/?h=integration+connector)\n",
    "\n",
    "![Diagram](https://egeria-project.org/connectors/integration/integration-connectors.svg)\n",
    "\n",
    "Once started, this connector will retrieve metadata from PostGres. For example this will include:\n",
    "    - tables\n",
    "    - columns\n",
    "    - databases\n",
    "    \n",
    "The metadata will then be mapped to [Egeria types](https://egeria-project.org/types/), and pushed into one of the Egeria repositories\n",
    "\n"
   ]
  },
  {
   "cell_type": "markdown",
   "id": "a1d28641-29fe-445d-b36f-d36a0eff7fa6",
   "metadata": {},
   "source": [
    "## Integration \n",
    "\n",
    "We now need to configure the integration server & connector, and point to Postgres from where we will import metadata. More info about this can be found in the [connector readme](https://github.com/odpi/egeria-database-connectors#readme)\n",
    "\n",
    "![Integration](https://egeria-project.org/concepts/integration-daemon.svg)\n",
    "\n",
    "\n",
    "\n"
   ]
  },
  {
   "cell_type": "markdown",
   "id": "d700be0a-d801-47ec-8828-f595f7909d04",
   "metadata": {},
   "source": [
    "## Setup a new metadata server (with repository)\n",
    "\n",
    "Here we will configure an additional metadata server. This will host both a repository, as well as act as a metadata access point.\n",
    "\n",
    "See https://egeria-project.org/services/omis/database-integrator/overview/ for more info on the required service to support database integration.\n",
    "\n",
    "This metadata server will join the 'dev' [cohort](https://egeria-project.org/services/omrs/cohort/?h=cohort) alongside cocoMDSx. \n",
    "\n",
    "This will mean it sends events to, and receives events from, other members of the cohort, including the integration server we will add later.\n",
    "\n",
    "![Coco Cohorts](../images/coco-pharmaceuticals-systems-cohorts.png)"
   ]
  },
  {
   "cell_type": "markdown",
   "id": "70d507c7-a5f7-42bd-ab79-493f50600ce7",
   "metadata": {},
   "source": [
    "### Required OMASs\n",
    "\n",
    "Egeria has a grouping of APIs known as the [Open Metadata Access Services](https://egeria-project.org/services/omas/) or OMAS.\n",
    "\n",
    "The [Data Manager OMAS](https://egeria-project.org/services/omas/data-manager/overview/) is needed to support database integration, so we will enable it in the configuration below."
   ]
  },
  {
   "cell_type": "code",
   "execution_count": 9,
   "id": "9ccda5f8-cdd4-4f44-a3f2-a10e0699f722",
   "metadata": {},
   "outputs": [
    {
     "name": "stdout",
     "output_type": "stream",
     "text": [
      "   ... configuring the platform the server will run on...\n",
      "   ...... (POST https://lab-dev:9443/open-metadata/admin-services/users/garygeeke/servers/dbisrv/server-url-root?url=https://lab-dev:9443 )\n",
      "   ...... Response:  {'class': 'VoidResponse', 'relatedHTTPCode': 200}\n",
      "   ... configuring the data-manager access service for this server...\n",
      "   ...... (POST https://lab-dev:9443/open-metadata/admin-services/users/garygeeke/servers/dbisrv/access-services/data-manager )\n",
      "   ...... Response:  {'class': 'VoidResponse', 'relatedHTTPCode': 200}\n",
      "   ... configuring the metadata repository...\n",
      "   ...... (POST https://lab-dev:9443/open-metadata/admin-services/users/garygeeke/servers/dbisrv/local-repository/mode/in-memory-repository )\n",
      "   ...... Response:  {'class': 'VoidResponse', 'relatedHTTPCode': 200}\n",
      "   ... configuring the event bus for this server...\n",
      "   ...... (POST https://lab-dev:9443/open-metadata/admin-services/users/garygeeke/servers/dbisrv/event-bus )\n",
      "   ...... Response:  {'class': 'VoidResponse', 'relatedHTTPCode': 200}\n",
      "   ... configuring the membership of the cohort...\n",
      "   ...... (POST https://lab-dev:9443/open-metadata/admin-services/users/garygeeke/servers/dbisrv/cohorts/devCohort )\n",
      "   ...... Response:  {'class': 'VoidResponse', 'relatedHTTPCode': 200}\n",
      "   ... deploying dbisrv to the https://lab-dev:9443 platform...\n",
      "   ...... (POST https://lab-dev:9443/open-metadata/admin-services/users/garygeeke/servers/dbisrv/configuration/deploy )\n",
      "   ...... Response:  {'class': 'VoidResponse', 'relatedHTTPCode': 200}\n",
      "                Starting server dbisrv ...\n"
     ]
    },
    {
     "data": {
      "text/plain": [
       "True"
      ]
     },
     "execution_count": 9,
     "metadata": {},
     "output_type": "execute_result"
    }
   ],
   "source": [
    "\n",
    "mdrServerName = 'dbisrv'\n",
    "mdrServerPlatform = devPlatformURL\n",
    "\n",
    "# Configure some of the basics (not all) including the required service to support database integration\n",
    "configurePlatformURL(adminPlatformURL, adminUserId, mdrServerName, mdrServerPlatform)\n",
    "\n",
    "# Enable the data-manager service, which is needed to support database integration\n",
    "configureAccessService(adminPlatformURL, adminUserId, mdrServerName, \"data-manager\", {})\n",
    "configureMetadataRepository(adminPlatformURL, adminUserId, mdrServerName, metadataRepositoryType)\n",
    "\n",
    "# We're going to join this server to the 'dev' cohort\n",
    "configureEventBus(adminPlatformURL, adminUserId, mdrServerName, eventBusBody)\n",
    "configureCohortMembership(adminPlatformURL, adminUserId, mdrServerName, devCohort)\n",
    "\n",
    "# We'll now deploy the created configuration, and start the server\n",
    "deployServerToPlatform(adminPlatformURL, adminUserId, mdrServerName, devPlatformURL)\n",
    "activateServerOnPlatform(mdrServerName, \"dev platform\", devPlatformURL)\n",
    "\n"
   ]
  },
  {
   "cell_type": "markdown",
   "id": "7618a2b8-31ea-42d1-840f-82ff4798b41d",
   "metadata": {},
   "source": [
    "## Setup an integration server\n",
    "\n",
    "We are going to set up a new [integration daemon](https://egeria-project.org/concepts/integration-daemon/) that will run our Postgres connector.\n",
    "\n",
    "This can run a number of different integration services, which we refer to as our [Open Metadata Integration Services](https://egeria-project.org/services/omis/) (OMIS)\n",
    "\n",
    "![OMIS](https://egeria-project.org/concepts/integration-daemon-in-action.svg)\n",
    "\n",
    "This will make use of the [Database Integrator](https://egeria-project.org/services/omis/database-integrator/overview/?h=database+integrator) Open Metadata Integration Service (OMIS). "
   ]
  },
  {
   "cell_type": "code",
   "execution_count": 10,
   "id": "cf98182d-cf66-4612-bca8-16813c6fccfe",
   "metadata": {},
   "outputs": [
    {
     "name": "stdout",
     "output_type": "stream",
     "text": [
      "   ... configuring the platform the server will run on...\n",
      "   ...... (POST https://lab-dev:9443/open-metadata/admin-services/users/garygeeke/servers/intserv/server-url-root?url=https://lab-dev:9443 )\n",
      "   ...... Response:  {'class': 'VoidResponse', 'relatedHTTPCode': 200}\n",
      "   ... configuring the default audit log...\n",
      "   ...... (POST https://lab-dev:9443/open-metadata/admin-services/users/garygeeke/servers/intserv/audit-log-destinations/default )\n",
      "   ...... Response:  {'class': 'VoidResponse', 'relatedHTTPCode': 200}\n"
     ]
    }
   ],
   "source": [
    "# We'll setup a new integration server on the dev platform\n",
    "intServerName   = \"intserv\"\n",
    "intServerPlatform=devPlatformURL\n",
    "\n",
    "# Config information needed for the postgres connector\n",
    "pgConnectorUser=\"pguser\"\n",
    "pgConnectorName=\"postgresql\"\n",
    "pgConnectorClass=\"org.odpi.openmetadata.adapters.connectors.integration.postgres.PostgresDatabaseProvider\"\n",
    "integrationServiceURLMarker=\"database-integrator\"\n",
    "\n",
    "# Authentication and URL for postgres - in a final lab this would be stored in secrets\n",
    "pgUser=\"employees\"\n",
    "pgPass=\",yDH[4|ETOp<1u*ai+0A{,,q\"\n",
    "pgURL=\"jdbc:postgresql://1\t:5432/employees\"\n",
    "\n",
    "# Setup some of the basics\n",
    "configurePlatformURL(adminPlatformURL, adminUserId, intServerName, intServerPlatform)\n",
    "configureDefaultAuditLog(adminPlatformURL, adminUserId, intServerName)\n",
    "\n",
    "\n"
   ]
  },
  {
   "cell_type": "markdown",
   "id": "90f5b623-522c-42f7-b091-93fd80b40db9",
   "metadata": {},
   "source": [
    "### Connector properties\n",
    "\n",
    "In the request body we configure properties needed by the connector. The values were set earlier. \n",
    "\n",
    "Egeria stores configuration data in encrypted files by default -- and this is pluggable. For example IBM stores configurations along with other cloud data (In cloudant)."
   ]
  },
  {
   "cell_type": "code",
   "execution_count": 11,
   "id": "0bb42152-92f9-4e93-9048-0917b9bd5b5b",
   "metadata": {},
   "outputs": [
    {
     "name": "stdout",
     "output_type": "stream",
     "text": [
      "   ... configuring the database-integrator integration service in intserv integration daemon ...\n",
      "{'class': 'IntegrationServiceRequestBody', 'omagserverPlatformRootURL': 'https://lab-dev:9443', 'omagserverName': 'dbisrv', 'integrationServiceOptions': {}, 'integrationConnectorConfigs': [{'class': 'IntegrationConnectorConfig', 'connectorName': 'postgresql', 'connectorUserId': 'pguser', 'connection': {'class': 'Connection', 'userId': 'employees', 'clearPassword': ',yDH[4|ETOp<1u*ai+0A{,,q', 'connectorType': {'class': 'ConnectorType', 'connectorProviderClassName': 'org.odpi.openmetadata.adapters.connectors.integration.postgres.PostgresDatabaseProvider'}, 'endpoint': {'class': 'Endpoint', 'address': 'jdbc:postgresql://1\\t:5432/employees'}, 'recognizedConfigurationProperties': ['url', 'ssl'], 'configurationProperties': {'url': 'jdbc:postgresql://1\\t:5432/employees', 'ssl': 'false'}}, 'metadataSourceQualifiedName': 'postgresql', 'refreshTimeInterval': '3456', 'usesBlockingCalls': 'false', 'permittedSynchronization': 'FROM_THIRD_PARTY'}]}\n",
      "   ...... (POST https://lab-dev:9443/open-metadata/admin-services/users/garygeeke/servers/intserv/integration-services/database-integrator )\n",
      "   ...... Response:  {'class': 'VoidResponse', 'relatedHTTPCode': 200}\n",
      "   ... deploying intserv to the https://lab-dev:9443 platform...\n",
      "   ...... (POST https://lab-dev:9443/open-metadata/admin-services/users/garygeeke/servers/intserv/configuration/deploy )\n",
      "   ...... Response:  {'class': 'VoidResponse', 'relatedHTTPCode': 200}\n"
     ]
    }
   ],
   "source": [
    "# request body needed to setup the postgres connector\n",
    "integrationServiceOptions={}\n",
    "connectorConfigs = [\n",
    "         {\n",
    "        \"class\": \"IntegrationConnectorConfig\",\n",
    "        \"connectorName\": \"postgresql\",\n",
    "        \"connectorUserId\": pgConnectorUser,\n",
    "        \"connection\":\n",
    "        {\n",
    "          \"class\": \"Connection\",\n",
    "          \"userId\": pgUser,\n",
    "          \"clearPassword\": pgPass,\n",
    "          \"connectorType\":\n",
    "          {\n",
    "            \"class\": \"ConnectorType\",\n",
    "            \"connectorProviderClassName\": pgConnectorClass\n",
    "          },\n",
    "          \"endpoint\":\n",
    "          {\n",
    "            \"class\": \"Endpoint\",\n",
    "            \"address\": pgURL\n",
    "          },\n",
    "          \"recognizedConfigurationProperties\": [\n",
    "            \"url\",\n",
    "            \"ssl\"\n",
    "          ],\n",
    "          \"configurationProperties\":\n",
    "          {\n",
    "            \"url\": pgURL,\n",
    "            \"ssl\": \"false\"\n",
    "          }\n",
    "        },\n",
    "        \"metadataSourceQualifiedName\": pgConnectorName,\n",
    "        \"refreshTimeInterval\": \"3456\",\n",
    "        \"usesBlockingCalls\": \"false\",\n",
    "        \"permittedSynchronization\": \"FROM_THIRD_PARTY\"\n",
    "      }\n",
    "    ]\n",
    "\n",
    "# Setup the integration service, and then deploy the server\n",
    "configureIntegrationService(adminPlatformURL, adminUserId, intServerName, mdrServerName, \n",
    "                                mdrServerPlatform, integrationServiceURLMarker, integrationServiceOptions, \n",
    "                                connectorConfigs)\n",
    "\n",
    "deployServerToPlatform(adminPlatformURL, adminUserId, intServerName, devPlatformURL)\n",
    "\n"
   ]
  },
  {
   "cell_type": "markdown",
   "id": "9173e1a1-e9a6-4455-8d55-0cca73aa3cab",
   "metadata": {},
   "source": [
    "## Starting the integration\n",
    "\n",
    "We will now start the integration daemon, which will launch our postgres connector, and start pulling in metadata from postgres\n",
    "\n",
    "Before executing this cell, you may want to [launch the ecosystem UI](https://79c191f6-eu-gb.lb.appdomain.cloud:8091/coco) to see what we have (very little),\n",
    "for example by using Repository Explorer to view all entities of type RelationalColumn\n",
    "\n",
    "You could also view the postgres database - For example using a [local install of pgweb](http://localhost:8081)."
   ]
  },
  {
   "cell_type": "code",
   "execution_count": 12,
   "id": "32ddf7b8-0daa-40a2-b9fd-4afd2312f2ef",
   "metadata": {},
   "outputs": [
    {
     "name": "stdout",
     "output_type": "stream",
     "text": [
      "                Starting server intserv ...\n"
     ]
    },
    {
     "data": {
      "text/plain": [
       "True"
      ]
     },
     "execution_count": 12,
     "metadata": {},
     "output_type": "execute_result"
    }
   ],
   "source": [
    "activateServerOnPlatform(intServerName, \"dev platform\", devPlatformURL)"
   ]
  },
  {
   "cell_type": "markdown",
   "id": "7a362f4b-c0c5-4ca2-9054-40e9e28c85a7",
   "metadata": {},
   "source": [
    "## Checking the metadata that is loaded\n",
    "\n",
    "On the sample 'employees' database the process of loading the metadata will take around 90s. It will then\n",
    "enter a poll loop & periodically check for updates"
   ]
  },
  {
   "cell_type": "code",
   "execution_count": 20,
   "id": "bd2af6d3-7e90-46dd-8045-89abfff22b01",
   "metadata": {},
   "outputs": [
    {
     "name": "stdout",
     "output_type": "stream",
     "text": [
      "No assets found\n",
      "No assets found\n"
     ]
    }
   ],
   "source": [
    "## Experimental area\n",
    "\n",
    "searchServer=\"cocoMDSx\"\n",
    "searchPlatformName=\"dev Platform\"\n",
    "searchPlatformURL=devPlatformURL\n",
    "searchUserId=\"garygeeke\"\n",
    "searchString=\".*\"\n",
    "searchForAssets(searchServer, searchPlatformName, searchPlatformURL, searchUserId, searchString)\n",
    "\n",
    "assetConsumerPrintAssets(cocoMDS2Name, cocoMDS2PlatformName, cocoMDS2PlatformURL, searchUserId, searchString)\n"
   ]
  },
  {
   "cell_type": "markdown",
   "id": "c9be8d88-4703-495d-9bda-a63ef43e7660",
   "metadata": {},
   "source": [
    "## Summary\n",
    "\n",
    "We've learnt more about how to pull in metadata from another source using an integration connector.\n",
    "\n",
    "Please join the community & help us with feedback, ideas, contributions."
   ]
  },
  {
   "cell_type": "code",
   "execution_count": null,
   "id": "55c34671-558d-49d6-8248-47d8e69287a1",
   "metadata": {},
   "outputs": [],
   "source": []
  }
 ],
 "metadata": {
  "kernelspec": {
   "display_name": "Python 3 (ipykernel)",
   "language": "python",
   "name": "python3"
  },
  "language_info": {
   "codemirror_mode": {
    "name": "ipython",
    "version": 3
   },
   "file_extension": ".py",
   "mimetype": "text/x-python",
   "name": "python",
   "nbconvert_exporter": "python",
   "pygments_lexer": "ipython3",
   "version": "3.9.7"
  }
 },
 "nbformat": 4,
 "nbformat_minor": 5
}
