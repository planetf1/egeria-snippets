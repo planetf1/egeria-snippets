{
 "cells": [
  {
   "cell_type": "markdown",
   "id": "08286dc7-12a1-4d5b-864c-0e7e1833653f",
   "metadata": {},
   "source": [
    "# Postgres Demo notebook\n",
    "\n",
    "At this stage the coco environment is configured & started.\n",
    "\n",
    "We have also used a modified deployment, that uses a modified container which includes the Egeria Postgres connector.\n",
    "\n",
    "We now need to configure the integration server & connector, and point to Postgres from where we will import metadata"
   ]
  },
  {
   "cell_type": "markdown",
   "id": "a37aa99f-8f4b-4575-92c3-a53b71caaef0",
   "metadata": {},
   "source": [
    "## Setup\n",
    "\n",
    "First we are going to setup some standard values that are normally setup elsewhere, but we'll repeat here\n",
    "just in case & for clarity"
   ]
  },
  {
   "cell_type": "code",
   "execution_count": 24,
   "id": "faf14ea7-1d36-456d-8a58-b33863adf3be",
   "metadata": {},
   "outputs": [
    {
     "name": "stdout",
     "output_type": "stream",
     "text": [
      "\n",
      "Checking OMAG Server Platform availability...\n",
      "    Core Platform is active\n",
      "        Checking OMAG Server cocoMDS2\n",
      "           ... cocoMDS2 is configured\n",
      "           ... cocoMDS2 is not known - needs to be started\n",
      "                Starting server cocoMDS2 ...\n",
      "                   ...cocoMDS2 failed to start\n",
      "                       error message is: OMAG-ADMIN-500-004 The Asset Lineage OMAS service detected an unexpected java.lang.NullPointerException exception with message null during initialization\n",
      "        Checking OMAG Server cocoMDS3\n",
      "           ... cocoMDS3 is configured\n",
      "           ... cocoMDS3 is active - ready to begin\n",
      "        Checking OMAG Server cocoMDS5\n",
      "           ... cocoMDS5 is configured\n",
      "           ... cocoMDS5 is active - ready to begin\n",
      "        Checking OMAG Server cocoMDS6\n",
      "           ... cocoMDS6 is configured\n",
      "           ... cocoMDS6 is active - ready to begin\n",
      "    Data Lake Platform is active\n",
      "        Checking OMAG Server cocoMDS1\n",
      "           ... cocoMDS1 is configured\n",
      "           ... cocoMDS1 is active - ready to begin\n",
      "        Checking OMAG Server cocoMDS4\n",
      "           ... cocoMDS4 is configured\n",
      "           ... cocoMDS4 is active - ready to begin\n",
      "        Checking OMAG Server cocoView1\n",
      "           ... cocoView1 is configured\n",
      "           ... cocoView1 is active - ready to begin\n",
      "        Checking OMAG Server cocoOLS1\n",
      "           ... cocoOLS1 is configured\n",
      "           ... cocoOLS1 is active - ready to begin\n",
      "    Dev Platform is active\n",
      "        Checking OMAG Server cocoMDSx\n",
      "           ... cocoMDSx is configured\n",
      "           ... cocoMDSx is active - ready to begin\n",
      "Done.\n",
      " \n"
     ]
    }
   ],
   "source": [
    "# Standard checks for notebooks - ensure all are running, define standard functions\n",
    "%run ../common/environment-check.ipynb"
   ]
  },
  {
   "cell_type": "code",
   "execution_count": 25,
   "id": "ccefecf9-19d8-4b5d-a94c-616e479ec044",
   "metadata": {},
   "outputs": [],
   "source": [
    "# language requirement\n",
    "#import os\n",
    "\n",
    "# admin operations - where/who\n",
    "#adminUserId     = \"garygeeke\"\n",
    "#devPlatformURL       = os.environ.get('devPlatformURL', 'https://localhost:9445')\n",
    "#devPlatformName      = \"Dev Platform\"\n",
    "#adminPlatformURL     = devPlatformURL\n",
    "#adminCommandURLRoot = adminPlatformURL + '/open-metadata/admin-services/users/' + adminUserId + '/servers/'\n",
    "\n",
    "# Event infrastructure & cohort membership\n",
    "eventBusURLroot   = os.environ.get('eventBusURLroot', 'localhost:9092')\n",
    "jsonContentHeader = {'content-type':'application/json'}\n",
    "eventBusBody      = {\n",
    "    \"producer\": {\n",
    "        \"bootstrap.servers\": eventBusURLroot\n",
    "    },\n",
    "    \"consumer\":{\n",
    "        \"bootstrap.servers\": eventBusURLroot\n",
    "    }\n",
    "}\n",
    "cocoCohort = \"cocoCohort\"\n",
    "devCohort  = \"devCohort\"\n",
    "iotCohort  = \"iotCohort\"\n",
    "\n",
    "# Default metadata repository options\n",
    "inMemoryRepositoryOption = \"in-memory-repository\"\n",
    "graphRepositoryOption    = \"local-graph-repository\"\n",
    "\n",
    "# Pick up which repo type to use from environment if set, otherwise default to inmemory \n",
    "metadataRepositoryType   = os.environ.get('repositoryType', inMemoryRepositoryOption)\n"
   ]
  },
  {
   "cell_type": "markdown",
   "id": "a1d28641-29fe-445d-b36f-d36a0eff7fa6",
   "metadata": {},
   "source": [
    "## Setup a new metadata server\n",
    "\n",
    "Here we will configure an additional metadata server\n",
    "\n",
    "See https://egeria-project.org/services/omis/database-integrator/overview/ for more info on the required service to support database integration"
   ]
  },
  {
   "cell_type": "code",
   "execution_count": 26,
   "id": "9ccda5f8-cdd4-4f44-a3f2-a10e0699f722",
   "metadata": {},
   "outputs": [
    {
     "name": "stdout",
     "output_type": "stream",
     "text": [
      "   ... configuring the platform the server will run on...\n",
      "   ...... (POST https://lab-dev:9443/open-metadata/admin-services/users/garygeeke/servers/dbisrv/server-url-root?url=https://lab-dev:9443 )\n",
      "   ...... Response:  {'class': 'VoidResponse', 'relatedHTTPCode': 200}\n",
      "   ... configuring the data-manager access service for this server...\n",
      "   ...... (POST https://lab-dev:9443/open-metadata/admin-services/users/garygeeke/servers/dbisrv/access-services/data-manager )\n",
      "   ...... Response:  {'class': 'VoidResponse', 'relatedHTTPCode': 200}\n",
      "   ... configuring the metadata repository...\n",
      "   ...... (POST https://lab-dev:9443/open-metadata/admin-services/users/garygeeke/servers/dbisrv/local-repository/mode/in-memory-repository )\n",
      "   ...... Response:  {'class': 'VoidResponse', 'relatedHTTPCode': 200}\n",
      "   ... configuring the event bus for this server...\n",
      "   ...... (POST https://lab-dev:9443/open-metadata/admin-services/users/garygeeke/servers/dbisrv/event-bus )\n",
      "   ...... Response:  {'class': 'VoidResponse', 'relatedHTTPCode': 200}\n",
      "   ... configuring the membership of the cohort...\n",
      "   ...... (POST https://lab-dev:9443/open-metadata/admin-services/users/garygeeke/servers/dbisrv/cohorts/devCohort )\n",
      "   ...... Response:  {'class': 'VoidResponse', 'relatedHTTPCode': 200}\n",
      "   ... deploying dbisrv to the https://lab-dev:9443 platform...\n",
      "   ...... (POST https://lab-dev:9443/open-metadata/admin-services/users/garygeeke/servers/dbisrv/configuration/deploy )\n",
      "   ...... Response:  {'class': 'VoidResponse', 'relatedHTTPCode': 200}\n",
      "                Starting server dbisrv ...\n"
     ]
    },
    {
     "data": {
      "text/plain": [
       "True"
      ]
     },
     "execution_count": 26,
     "metadata": {},
     "output_type": "execute_result"
    }
   ],
   "source": [
    "# We already have an integration server - monitorDev01 -- but we'll use a new one for now\n",
    "\n",
    "mdrServerName = 'dbisrv'\n",
    "mdrServerPlatform = devPlatformURL\n",
    "\n",
    "# Configure some of the basics (not all) including the required service to support database integration\n",
    "configurePlatformURL(adminPlatformURL, adminUserId, mdrServerName, mdrServerPlatform)\n",
    "\n",
    "\n",
    "configureAccessService(adminPlatformURL, adminUserId, mdrServerName, \"data-manager\", {})\n",
    "configureMetadataRepository(adminPlatformURL, adminUserId, mdrServerName, metadataRepositoryType)\n",
    "\n",
    "# We're going to join this server to the 'dev' cohort\n",
    "configureEventBus(adminPlatformURL, adminUserId, mdrServerName, eventBusBody)\n",
    "configureCohortMembership(adminPlatformURL, adminUserId, mdrServerName, devCohort)\n",
    "\n",
    "# We'll now deploy the created configuration, and start the server\n",
    "deployServerToPlatform(adminPlatformURL, adminUserId, mdrServerName, devPlatformURL)\n",
    "activateServerOnPlatform(mdrServerName, \"dev platform\", devPlatformURL)\n",
    "\n"
   ]
  },
  {
   "cell_type": "code",
   "execution_count": 27,
   "id": "4604fb33-c771-46ab-bd8c-abb29fb1ba45",
   "metadata": {},
   "outputs": [],
   "source": [
    "# Setup and integration server"
   ]
  },
  {
   "cell_type": "code",
   "execution_count": 28,
   "id": "cf98182d-cf66-4612-bca8-16813c6fccfe",
   "metadata": {},
   "outputs": [
    {
     "name": "stdout",
     "output_type": "stream",
     "text": [
      "   ... configuring the platform the server will run on...\n",
      "   ...... (POST https://lab-dev:9443/open-metadata/admin-services/users/garygeeke/servers/intserv/server-url-root?url=https://lab-dev:9443 )\n",
      "   ...... Response:  {'class': 'VoidResponse', 'relatedHTTPCode': 200}\n",
      "   ... configuring the default audit log...\n",
      "   ...... (POST https://lab-dev:9443/open-metadata/admin-services/users/garygeeke/servers/intserv/audit-log-destinations/default )\n",
      "   ...... Response:  {'class': 'VoidResponse', 'relatedHTTPCode': 200}\n"
     ]
    }
   ],
   "source": [
    "# We'll setup a new integration server on the dev platform\n",
    "intServerName   = \"intserv\"\n",
    "intServerPlatform=devPlatformURL\n",
    "\n",
    "# Config information needed for the postgres connector\n",
    "pgConnectorUser=\"pguser\"\n",
    "pgConnectorName=\"postgresql\"\n",
    "pgConnectorClass=\"org.odpi.openmetadata.adapters.connectors.integration.postgres.PostgresDatabaseProvider\"\n",
    "integrationServiceURLMarker=\"database-integrator\"\n",
    "\n",
    "# Authentication and URL for postgres - in a final lab this would be stored in secrets\n",
    "pgUser=\"employees\"\n",
    "pgPass=\",yDH[4|ETOp<1u*ai+0A{,,q\"\n",
    "pgURL=\"jdbc:postgresql://1\t:5432/employees\"\n",
    "\n",
    "# Setup some of the basics\n",
    "configurePlatformURL(adminPlatformURL, adminUserId, intServerName, intServerPlatform)\n",
    "configureDefaultAuditLog(adminPlatformURL, adminUserId, intServerName)\n",
    "\n",
    "\n"
   ]
  },
  {
   "cell_type": "code",
   "execution_count": 29,
   "id": "0bb42152-92f9-4e93-9048-0917b9bd5b5b",
   "metadata": {},
   "outputs": [
    {
     "name": "stdout",
     "output_type": "stream",
     "text": [
      "   ... configuring the database-integrator integration service in intserv integration daemon ...\n",
      "{'class': 'IntegrationServiceRequestBody', 'omagserverPlatformRootURL': 'https://lab-dev:9443', 'omagserverName': 'dbisrv', 'integrationServiceOptions': {}, 'integrationConnectorConfigs': [{'class': 'IntegrationConnectorConfig', 'connectorName': 'postgresql', 'connectorUserId': 'pguser', 'connection': {'class': 'Connection', 'userId': 'employees', 'clearPassword': ',yDH[4|ETOp<1u*ai+0A{,,q', 'connectorType': {'class': 'ConnectorType', 'connectorProviderClassName': 'org.odpi.openmetadata.adapters.connectors.integration.postgres.PostgresDatabaseProvider'}, 'endpoint': {'class': 'Endpoint', 'address': 'jdbc:postgresql://1\\t:5432/employees'}, 'recognizedConfigurationProperties': ['url', 'ssl'], 'configurationProperties': {'url': 'jdbc:postgresql://1\\t:5432/employees', 'ssl': 'false'}}, 'metadataSourceQualifiedName': 'postgresql', 'refreshTimeInterval': '3456', 'usesBlockingCalls': 'false', 'permittedSynchronization': 'FROM_THIRD_PARTY'}]}\n",
      "   ...... (POST https://lab-dev:9443/open-metadata/admin-services/users/garygeeke/servers/intserv/integration-services/database-integrator )\n",
      "   ...... Response:  {'class': 'VoidResponse', 'relatedHTTPCode': 200}\n",
      "   ... deploying intserv to the https://lab-dev:9443 platform...\n",
      "   ...... (POST https://lab-dev:9443/open-metadata/admin-services/users/garygeeke/servers/intserv/configuration/deploy )\n",
      "   ...... Response:  {'class': 'VoidResponse', 'relatedHTTPCode': 200}\n",
      "                Starting server intserv ...\n"
     ]
    },
    {
     "data": {
      "text/plain": [
       "True"
      ]
     },
     "execution_count": 29,
     "metadata": {},
     "output_type": "execute_result"
    }
   ],
   "source": [
    "# request body needed to setup the postgres connector\n",
    "integrationServiceOptions={}\n",
    "connectorConfigs = [\n",
    "         {\n",
    "        \"class\": \"IntegrationConnectorConfig\",\n",
    "        \"connectorName\": \"postgresql\",\n",
    "        \"connectorUserId\": pgConnectorUser,\n",
    "        \"connection\":\n",
    "        {\n",
    "          \"class\": \"Connection\",\n",
    "          \"userId\": pgUser,\n",
    "          \"clearPassword\": pgPass,\n",
    "          \"connectorType\":\n",
    "          {\n",
    "            \"class\": \"ConnectorType\",\n",
    "            \"connectorProviderClassName\": pgConnectorClass\n",
    "          },\n",
    "          \"endpoint\":\n",
    "          {\n",
    "            \"class\": \"Endpoint\",\n",
    "            \"address\": pgURL\n",
    "          },\n",
    "          \"recognizedConfigurationProperties\": [\n",
    "            \"url\",\n",
    "            \"ssl\"\n",
    "          ],\n",
    "          \"configurationProperties\":\n",
    "          {\n",
    "            \"url\": pgURL,\n",
    "            \"ssl\": \"false\"\n",
    "          }\n",
    "        },\n",
    "        \"metadataSourceQualifiedName\": pgConnectorName,\n",
    "        \"refreshTimeInterval\": \"3456\",\n",
    "        \"usesBlockingCalls\": \"false\",\n",
    "        \"permittedSynchronization\": \"FROM_THIRD_PARTY\"\n",
    "      }\n",
    "    ]\n",
    "\n",
    "# Setup the integration service, and then deploy & start the server\n",
    "configureIntegrationService(adminPlatformURL, adminUserId, intServerName, mdrServerName, \n",
    "                                mdrServerPlatform, integrationServiceURLMarker, integrationServiceOptions, \n",
    "                                connectorConfigs)\n",
    "\n",
    "deployServerToPlatform(adminPlatformURL, adminUserId, intServerName, devPlatformURL)\n",
    "\n",
    "activateServerOnPlatform(intServerName, \"dev platform\", devPlatformURL)"
   ]
  },
  {
   "cell_type": "code",
   "execution_count": null,
   "id": "32ddf7b8-0daa-40a2-b9fd-4afd2312f2ef",
   "metadata": {},
   "outputs": [],
   "source": []
  }
 ],
 "metadata": {
  "kernelspec": {
   "display_name": "Python 3 (ipykernel)",
   "language": "python",
   "name": "python3"
  },
  "language_info": {
   "codemirror_mode": {
    "name": "ipython",
    "version": 3
   },
   "file_extension": ".py",
   "mimetype": "text/x-python",
   "name": "python",
   "nbconvert_exporter": "python",
   "pygments_lexer": "ipython3",
   "version": "3.9.7"
  }
 },
 "nbformat": 4,
 "nbformat_minor": 5
}
